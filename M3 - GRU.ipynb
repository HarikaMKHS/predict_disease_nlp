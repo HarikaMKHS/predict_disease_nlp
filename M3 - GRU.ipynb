{
 "cells": [
  {
   "cell_type": "markdown",
   "id": "4fd9416f",
   "metadata": {},
   "source": [
    "### GRATED RECURREND UNIT ARCHITECTURE "
   ]
  },
  {
   "cell_type": "code",
   "execution_count": 1,
   "id": "c2f70a17",
   "metadata": {},
   "outputs": [],
   "source": [
    "import pandas as pd\n",
    "import numpy as np"
   ]
  },
  {
   "cell_type": "code",
   "execution_count": 2,
   "id": "a226a92b",
   "metadata": {},
   "outputs": [
    {
     "data": {
      "text/html": [
       "<div>\n",
       "<style scoped>\n",
       "    .dataframe tbody tr th:only-of-type {\n",
       "        vertical-align: middle;\n",
       "    }\n",
       "\n",
       "    .dataframe tbody tr th {\n",
       "        vertical-align: top;\n",
       "    }\n",
       "\n",
       "    .dataframe thead th {\n",
       "        text-align: right;\n",
       "    }\n",
       "</style>\n",
       "<table border=\"1\" class=\"dataframe\">\n",
       "  <thead>\n",
       "    <tr style=\"text-align: right;\">\n",
       "      <th></th>\n",
       "      <th>label</th>\n",
       "      <th>text</th>\n",
       "    </tr>\n",
       "  </thead>\n",
       "  <tbody>\n",
       "    <tr>\n",
       "      <th>0</th>\n",
       "      <td>Acne</td>\n",
       "      <td>I've been having a really bad rash on my skin ...</td>\n",
       "    </tr>\n",
       "    <tr>\n",
       "      <th>1</th>\n",
       "      <td>Acne</td>\n",
       "      <td>I've just developed a severe rash on my skin. ...</td>\n",
       "    </tr>\n",
       "    <tr>\n",
       "      <th>2</th>\n",
       "      <td>Acne</td>\n",
       "      <td>My skin has been breaking out in a terrible ra...</td>\n",
       "    </tr>\n",
       "    <tr>\n",
       "      <th>3</th>\n",
       "      <td>Acne</td>\n",
       "      <td>I've recently been experiencing a severe skin ...</td>\n",
       "    </tr>\n",
       "    <tr>\n",
       "      <th>4</th>\n",
       "      <td>Acne</td>\n",
       "      <td>I've been having a very unhealthy rash on my s...</td>\n",
       "    </tr>\n",
       "  </tbody>\n",
       "</table>\n",
       "</div>"
      ],
      "text/plain": [
       "  label                                               text\n",
       "0  Acne  I've been having a really bad rash on my skin ...\n",
       "1  Acne  I've just developed a severe rash on my skin. ...\n",
       "2  Acne  My skin has been breaking out in a terrible ra...\n",
       "3  Acne  I've recently been experiencing a severe skin ...\n",
       "4  Acne  I've been having a very unhealthy rash on my s..."
      ]
     },
     "execution_count": 2,
     "metadata": {},
     "output_type": "execute_result"
    }
   ],
   "source": [
    "Data = pd.read_csv('SYMPTOMS.csv', usecols=['label','text'])\n",
    "Data.head()"
   ]
  },
  {
   "cell_type": "code",
   "execution_count": 3,
   "id": "018a5021",
   "metadata": {},
   "outputs": [
    {
     "data": {
      "text/html": [
       "<div>\n",
       "<style scoped>\n",
       "    .dataframe tbody tr th:only-of-type {\n",
       "        vertical-align: middle;\n",
       "    }\n",
       "\n",
       "    .dataframe tbody tr th {\n",
       "        vertical-align: top;\n",
       "    }\n",
       "\n",
       "    .dataframe thead th {\n",
       "        text-align: right;\n",
       "    }\n",
       "</style>\n",
       "<table border=\"1\" class=\"dataframe\">\n",
       "  <thead>\n",
       "    <tr style=\"text-align: right;\">\n",
       "      <th></th>\n",
       "      <th>label</th>\n",
       "      <th>text</th>\n",
       "    </tr>\n",
       "  </thead>\n",
       "  <tbody>\n",
       "    <tr>\n",
       "      <th>1195</th>\n",
       "      <td>Varicose Veins</td>\n",
       "      <td>My legs' swelling has become worse over the la...</td>\n",
       "    </tr>\n",
       "    <tr>\n",
       "      <th>1196</th>\n",
       "      <td>Varicose Veins</td>\n",
       "      <td>Long durations of standing or walking have cau...</td>\n",
       "    </tr>\n",
       "    <tr>\n",
       "      <th>1197</th>\n",
       "      <td>Varicose Veins</td>\n",
       "      <td>My legs' skin around the veins is unusual. The...</td>\n",
       "    </tr>\n",
       "    <tr>\n",
       "      <th>1198</th>\n",
       "      <td>Varicose Veins</td>\n",
       "      <td>I am experiencing too many cramps in the last ...</td>\n",
       "    </tr>\n",
       "    <tr>\n",
       "      <th>1199</th>\n",
       "      <td>Varicose Veins</td>\n",
       "      <td>The veins in my calves are protruding out quit...</td>\n",
       "    </tr>\n",
       "  </tbody>\n",
       "</table>\n",
       "</div>"
      ],
      "text/plain": [
       "               label                                               text\n",
       "1195  Varicose Veins  My legs' swelling has become worse over the la...\n",
       "1196  Varicose Veins  Long durations of standing or walking have cau...\n",
       "1197  Varicose Veins  My legs' skin around the veins is unusual. The...\n",
       "1198  Varicose Veins  I am experiencing too many cramps in the last ...\n",
       "1199  Varicose Veins  The veins in my calves are protruding out quit..."
      ]
     },
     "execution_count": 3,
     "metadata": {},
     "output_type": "execute_result"
    }
   ],
   "source": [
    "Data.tail()"
   ]
  },
  {
   "cell_type": "code",
   "execution_count": 4,
   "id": "c3f36d3c",
   "metadata": {},
   "outputs": [
    {
     "data": {
      "text/plain": [
       "label\n",
       "Acne                               50\n",
       "allergy                            50\n",
       "urinary tract infection            50\n",
       "Typhoid                            50\n",
       "Psoriasis                          50\n",
       "Pneumonia                          50\n",
       "peptic ulcer disease               50\n",
       "Migraine                           50\n",
       "Malaria                            50\n",
       "Jaundice                           50\n",
       "Impetigo                           50\n",
       "Hypertension                       50\n",
       "gastroesophageal reflux disease    50\n",
       "Fungal infection                   50\n",
       "drug reaction                      50\n",
       "Dimorphic Hemorrhoids              50\n",
       "diabetes                           50\n",
       "Dengue                             50\n",
       "Common Cold                        50\n",
       "Chicken pox                        50\n",
       "Cervical spondylosis               50\n",
       "Bronchial Asthma                   50\n",
       "Arthritis                          50\n",
       "Varicose Veins                     50\n",
       "Name: count, dtype: int64"
      ]
     },
     "execution_count": 4,
     "metadata": {},
     "output_type": "execute_result"
    }
   ],
   "source": [
    "Data['label'].value_counts()"
   ]
  },
  {
   "cell_type": "code",
   "execution_count": 5,
   "id": "c52a20ee",
   "metadata": {},
   "outputs": [],
   "source": [
    "Data['text'] = Data['text'].apply(lambda x: x.lower() if pd.notna(x) else \"\")"
   ]
  },
  {
   "cell_type": "code",
   "execution_count": 6,
   "id": "9cdfa6eb",
   "metadata": {},
   "outputs": [],
   "source": [
    "from sklearn.preprocessing import LabelEncoder\n",
    "\n",
    "label_encoder = LabelEncoder()\n",
    "Data['label'] = label_encoder.fit_transform(Data['label'])"
   ]
  },
  {
   "cell_type": "code",
   "execution_count": 7,
   "id": "e8c1aec5",
   "metadata": {},
   "outputs": [],
   "source": [
    "num_classes = len(label_encoder.classes_) "
   ]
  },
  {
   "cell_type": "code",
   "execution_count": 8,
   "id": "7cc5b936",
   "metadata": {},
   "outputs": [],
   "source": [
    "x = Data['text']\n",
    "y = Data['label']"
   ]
  },
  {
   "cell_type": "code",
   "execution_count": 9,
   "id": "4ac194d4",
   "metadata": {},
   "outputs": [
    {
     "name": "stdout",
     "output_type": "stream",
     "text": [
      "WARNING:tensorflow:From C:\\Users\\Harika\\anaconda3\\Lib\\site-packages\\keras\\src\\losses.py:2976: The name tf.losses.sparse_softmax_cross_entropy is deprecated. Please use tf.compat.v1.losses.sparse_softmax_cross_entropy instead.\n",
      "\n"
     ]
    }
   ],
   "source": [
    "from tensorflow.keras.utils import to_categorical\n",
    "\n",
    "y = to_categorical(y, num_classes=num_classes)"
   ]
  },
  {
   "cell_type": "code",
   "execution_count": 10,
   "id": "ca326c5f",
   "metadata": {},
   "outputs": [],
   "source": [
    "from sklearn.model_selection import train_test_split\n",
    "\n",
    "x_train, x_test, y_train, y_test = train_test_split(x, y, test_size=0.2, random_state=42)"
   ]
  },
  {
   "cell_type": "code",
   "execution_count": 11,
   "id": "c0d8c601",
   "metadata": {},
   "outputs": [],
   "source": [
    "max_words = 10000  \n",
    "max_sequence_length = 100"
   ]
  },
  {
   "cell_type": "code",
   "execution_count": 12,
   "id": "01dccb8a",
   "metadata": {},
   "outputs": [],
   "source": [
    "from tensorflow.keras.preprocessing.text import Tokenizer\n",
    "\n",
    "tokenizer = Tokenizer(num_words=max_words)\n",
    "tokenizer.fit_on_texts(x_train)"
   ]
  },
  {
   "cell_type": "code",
   "execution_count": 13,
   "id": "ae9b3287",
   "metadata": {},
   "outputs": [],
   "source": [
    "x_train_sequences = tokenizer.texts_to_sequences(x_train)\n",
    "x_test_sequences = tokenizer.texts_to_sequences(x_test)"
   ]
  },
  {
   "cell_type": "code",
   "execution_count": 14,
   "id": "bdcf5ee4",
   "metadata": {},
   "outputs": [],
   "source": [
    "from tensorflow.keras.preprocessing.sequence import pad_sequences\n",
    "\n",
    "x_train_padded = pad_sequences(x_train_sequences, maxlen=max_sequence_length)\n",
    "x_test_padded = pad_sequences(x_test_sequences, maxlen=max_sequence_length)"
   ]
  },
  {
   "cell_type": "code",
   "execution_count": 15,
   "id": "30f92539",
   "metadata": {},
   "outputs": [],
   "source": [
    "embedding_dim = 100  \n",
    "RNN_units = 128"
   ]
  },
  {
   "cell_type": "code",
   "execution_count": 16,
   "id": "0677be3c",
   "metadata": {},
   "outputs": [],
   "source": [
    "from tensorflow.keras.models import Sequential\n",
    "from tensorflow.keras.layers import Embedding\n",
    "from tensorflow.keras.layers import Bidirectional\n",
    "from tensorflow.keras.layers import GRU\n",
    "from tensorflow.keras.layers import Dense"
   ]
  },
  {
   "cell_type": "code",
   "execution_count": 17,
   "id": "95b60d13",
   "metadata": {},
   "outputs": [
    {
     "name": "stdout",
     "output_type": "stream",
     "text": [
      "WARNING:tensorflow:From C:\\Users\\Harika\\anaconda3\\Lib\\site-packages\\keras\\src\\backend.py:873: The name tf.get_default_graph is deprecated. Please use tf.compat.v1.get_default_graph instead.\n",
      "\n"
     ]
    }
   ],
   "source": [
    "model = Sequential()\n",
    "model.add(Embedding(input_dim=max_words, output_dim=embedding_dim, input_length=max_sequence_length))\n",
    "model.add(Bidirectional(GRU(units=RNN_units, dropout=0.2, recurrent_dropout=0.2)))\n",
    "model.add(Dense(units=num_classes, activation='softmax'))"
   ]
  },
  {
   "cell_type": "code",
   "execution_count": 18,
   "id": "d1fc08c3",
   "metadata": {},
   "outputs": [
    {
     "name": "stdout",
     "output_type": "stream",
     "text": [
      "WARNING:tensorflow:From C:\\Users\\Harika\\anaconda3\\Lib\\site-packages\\keras\\src\\optimizers\\__init__.py:309: The name tf.train.Optimizer is deprecated. Please use tf.compat.v1.train.Optimizer instead.\n",
      "\n"
     ]
    }
   ],
   "source": [
    "model.compile(loss='categorical_crossentropy', optimizer='adam', metrics=['accuracy'])"
   ]
  },
  {
   "cell_type": "code",
   "execution_count": 19,
   "id": "c37c68ca",
   "metadata": {},
   "outputs": [],
   "source": [
    "from tensorflow.keras.callbacks import ModelCheckpoint\n",
    "\n",
    "model_checkpoint = ModelCheckpoint('DISEASE1.h5', \n",
    "                                   monitor='accuracy', \n",
    "                                   save_best_only=True, \n",
    "                                   verbose=1,\n",
    "                                   mode='max')"
   ]
  },
  {
   "cell_type": "code",
   "execution_count": 20,
   "id": "60e08602",
   "metadata": {},
   "outputs": [],
   "source": [
    "epochs = 50\n",
    "batch_size = 32"
   ]
  },
  {
   "cell_type": "code",
   "execution_count": 21,
   "id": "6f803697",
   "metadata": {},
   "outputs": [
    {
     "name": "stdout",
     "output_type": "stream",
     "text": [
      "Epoch 1/50\n",
      "WARNING:tensorflow:From C:\\Users\\Harika\\anaconda3\\Lib\\site-packages\\keras\\src\\utils\\tf_utils.py:492: The name tf.ragged.RaggedTensorValue is deprecated. Please use tf.compat.v1.ragged.RaggedTensorValue instead.\n",
      "\n",
      "WARNING:tensorflow:From C:\\Users\\Harika\\anaconda3\\Lib\\site-packages\\keras\\src\\engine\\base_layer_utils.py:384: The name tf.executing_eagerly_outside_functions is deprecated. Please use tf.compat.v1.executing_eagerly_outside_functions instead.\n",
      "\n",
      "27/27 [==============================] - ETA: 0s - loss: 3.1692 - accuracy: 0.0764\n",
      "Epoch 1: accuracy improved from -inf to 0.07639, saving model to DISEASE1.h5\n",
      "27/27 [==============================] - 8s 141ms/step - loss: 3.1692 - accuracy: 0.0764 - val_loss: 3.1406 - val_accuracy: 0.2083\n",
      "Epoch 2/50\n",
      " 1/27 [>.............................] - ETA: 3s - loss: 3.1383 - accuracy: 0.2188"
     ]
    },
    {
     "name": "stderr",
     "output_type": "stream",
     "text": [
      "C:\\Users\\Harika\\anaconda3\\Lib\\site-packages\\keras\\src\\engine\\training.py:3103: UserWarning: You are saving your model as an HDF5 file via `model.save()`. This file format is considered legacy. We recommend using instead the native Keras format, e.g. `model.save('my_model.keras')`.\n",
      "  saving_api.save_model(\n"
     ]
    },
    {
     "name": "stdout",
     "output_type": "stream",
     "text": [
      "27/27 [==============================] - ETA: 0s - loss: 2.9940 - accuracy: 0.3171\n",
      "Epoch 2: accuracy improved from 0.07639 to 0.31713, saving model to DISEASE1.h5\n",
      "27/27 [==============================] - 3s 122ms/step - loss: 2.9940 - accuracy: 0.3171 - val_loss: 2.7857 - val_accuracy: 0.1354\n",
      "Epoch 3/50\n",
      "27/27 [==============================] - ETA: 0s - loss: 2.4600 - accuracy: 0.2523\n",
      "Epoch 3: accuracy did not improve from 0.31713\n",
      "27/27 [==============================] - 3s 123ms/step - loss: 2.4600 - accuracy: 0.2523 - val_loss: 2.3107 - val_accuracy: 0.2812\n",
      "Epoch 4/50\n",
      "27/27 [==============================] - ETA: 0s - loss: 2.0201 - accuracy: 0.4317\n",
      "Epoch 4: accuracy improved from 0.31713 to 0.43171, saving model to DISEASE1.h5\n",
      "27/27 [==============================] - 5s 192ms/step - loss: 2.0201 - accuracy: 0.4317 - val_loss: 1.9009 - val_accuracy: 0.4271\n",
      "Epoch 5/50\n",
      "27/27 [==============================] - ETA: 0s - loss: 1.6894 - accuracy: 0.5521\n",
      "Epoch 5: accuracy improved from 0.43171 to 0.55208, saving model to DISEASE1.h5\n",
      "27/27 [==============================] - 3s 111ms/step - loss: 1.6894 - accuracy: 0.5521 - val_loss: 1.7081 - val_accuracy: 0.4896\n",
      "Epoch 6/50\n",
      "27/27 [==============================] - ETA: 0s - loss: 1.3395 - accuracy: 0.6516\n",
      "Epoch 6: accuracy improved from 0.55208 to 0.65162, saving model to DISEASE1.h5\n",
      "27/27 [==============================] - 122s 5s/step - loss: 1.3395 - accuracy: 0.6516 - val_loss: 1.3057 - val_accuracy: 0.6042\n",
      "Epoch 7/50\n",
      "27/27 [==============================] - ETA: 0s - loss: 1.0097 - accuracy: 0.7546\n",
      "Epoch 7: accuracy improved from 0.65162 to 0.75463, saving model to DISEASE1.h5\n",
      "27/27 [==============================] - 4s 167ms/step - loss: 1.0097 - accuracy: 0.7546 - val_loss: 1.0910 - val_accuracy: 0.6667\n",
      "Epoch 8/50\n",
      "27/27 [==============================] - ETA: 0s - loss: 0.7772 - accuracy: 0.8275\n",
      "Epoch 8: accuracy improved from 0.75463 to 0.82755, saving model to DISEASE1.h5\n",
      "27/27 [==============================] - 4s 151ms/step - loss: 0.7772 - accuracy: 0.8275 - val_loss: 1.0086 - val_accuracy: 0.7083\n",
      "Epoch 9/50\n",
      "27/27 [==============================] - ETA: 0s - loss: 0.5821 - accuracy: 0.8912\n",
      "Epoch 9: accuracy improved from 0.82755 to 0.89120, saving model to DISEASE1.h5\n",
      "27/27 [==============================] - 3s 120ms/step - loss: 0.5821 - accuracy: 0.8912 - val_loss: 0.9275 - val_accuracy: 0.7604\n",
      "Epoch 10/50\n",
      "27/27 [==============================] - ETA: 0s - loss: 0.4777 - accuracy: 0.9062\n",
      "Epoch 10: accuracy improved from 0.89120 to 0.90625, saving model to DISEASE1.h5\n",
      "27/27 [==============================] - 4s 133ms/step - loss: 0.4777 - accuracy: 0.9062 - val_loss: 0.8393 - val_accuracy: 0.7292\n",
      "Epoch 11/50\n",
      "27/27 [==============================] - ETA: 0s - loss: 0.3798 - accuracy: 0.9329\n",
      "Epoch 11: accuracy improved from 0.90625 to 0.93287, saving model to DISEASE1.h5\n",
      "27/27 [==============================] - 3s 124ms/step - loss: 0.3798 - accuracy: 0.9329 - val_loss: 0.8365 - val_accuracy: 0.7708\n",
      "Epoch 12/50\n",
      "27/27 [==============================] - ETA: 0s - loss: 0.3055 - accuracy: 0.9537\n",
      "Epoch 12: accuracy improved from 0.93287 to 0.95370, saving model to DISEASE1.h5\n",
      "27/27 [==============================] - 3s 120ms/step - loss: 0.3055 - accuracy: 0.9537 - val_loss: 0.8680 - val_accuracy: 0.7500\n",
      "Epoch 13/50\n",
      "27/27 [==============================] - ETA: 0s - loss: 0.2362 - accuracy: 0.9606\n",
      "Epoch 13: accuracy improved from 0.95370 to 0.96065, saving model to DISEASE1.h5\n",
      "27/27 [==============================] - 3s 130ms/step - loss: 0.2362 - accuracy: 0.9606 - val_loss: 0.7213 - val_accuracy: 0.7917\n",
      "Epoch 14/50\n",
      "27/27 [==============================] - ETA: 0s - loss: 0.1761 - accuracy: 0.9803\n",
      "Epoch 14: accuracy improved from 0.96065 to 0.98032, saving model to DISEASE1.h5\n",
      "27/27 [==============================] - 4s 141ms/step - loss: 0.1761 - accuracy: 0.9803 - val_loss: 0.7324 - val_accuracy: 0.7917\n",
      "Epoch 15/50\n",
      "27/27 [==============================] - ETA: 0s - loss: 0.1405 - accuracy: 0.9884\n",
      "Epoch 15: accuracy improved from 0.98032 to 0.98843, saving model to DISEASE1.h5\n",
      "27/27 [==============================] - 4s 140ms/step - loss: 0.1405 - accuracy: 0.9884 - val_loss: 0.7375 - val_accuracy: 0.7812\n",
      "Epoch 16/50\n",
      "27/27 [==============================] - ETA: 0s - loss: 0.1130 - accuracy: 0.9931\n",
      "Epoch 16: accuracy improved from 0.98843 to 0.99306, saving model to DISEASE1.h5\n",
      "27/27 [==============================] - 4s 138ms/step - loss: 0.1130 - accuracy: 0.9931 - val_loss: 0.6730 - val_accuracy: 0.7917\n",
      "Epoch 17/50\n",
      "27/27 [==============================] - ETA: 0s - loss: 0.0959 - accuracy: 0.9907\n",
      "Epoch 17: accuracy did not improve from 0.99306\n",
      "27/27 [==============================] - 4s 145ms/step - loss: 0.0959 - accuracy: 0.9907 - val_loss: 0.7143 - val_accuracy: 0.8021\n",
      "Epoch 18/50\n",
      "27/27 [==============================] - ETA: 0s - loss: 0.1188 - accuracy: 0.9815\n",
      "Epoch 18: accuracy did not improve from 0.99306\n",
      "27/27 [==============================] - 4s 142ms/step - loss: 0.1188 - accuracy: 0.9815 - val_loss: 0.8087 - val_accuracy: 0.7708\n",
      "Epoch 19/50\n",
      "27/27 [==============================] - ETA: 0s - loss: 0.0927 - accuracy: 0.9931\n",
      "Epoch 19: accuracy did not improve from 0.99306\n",
      "27/27 [==============================] - 6s 228ms/step - loss: 0.0927 - accuracy: 0.9931 - val_loss: 0.7329 - val_accuracy: 0.8021\n",
      "Epoch 20/50\n",
      "27/27 [==============================] - ETA: 0s - loss: 0.0668 - accuracy: 0.9965\n",
      "Epoch 20: accuracy improved from 0.99306 to 0.99653, saving model to DISEASE1.h5\n",
      "27/27 [==============================] - 5s 183ms/step - loss: 0.0668 - accuracy: 0.9965 - val_loss: 0.7414 - val_accuracy: 0.8229\n",
      "Epoch 21/50\n",
      "27/27 [==============================] - ETA: 0s - loss: 0.0571 - accuracy: 0.9954\n",
      "Epoch 21: accuracy did not improve from 0.99653\n",
      "27/27 [==============================] - 7s 255ms/step - loss: 0.0571 - accuracy: 0.9954 - val_loss: 0.7642 - val_accuracy: 0.7812\n",
      "Epoch 22/50\n",
      "27/27 [==============================] - ETA: 0s - loss: 0.0497 - accuracy: 0.9988\n",
      "Epoch 22: accuracy improved from 0.99653 to 0.99884, saving model to DISEASE1.h5\n",
      "27/27 [==============================] - 7s 263ms/step - loss: 0.0497 - accuracy: 0.9988 - val_loss: 0.6969 - val_accuracy: 0.8229\n",
      "Epoch 23/50\n",
      "27/27 [==============================] - ETA: 0s - loss: 0.0385 - accuracy: 0.9988\n",
      "Epoch 23: accuracy did not improve from 0.99884\n",
      "27/27 [==============================] - 7s 260ms/step - loss: 0.0385 - accuracy: 0.9988 - val_loss: 0.7086 - val_accuracy: 0.8125\n",
      "Epoch 24/50\n",
      "27/27 [==============================] - ETA: 0s - loss: 0.0315 - accuracy: 1.0000\n",
      "Epoch 24: accuracy improved from 0.99884 to 1.00000, saving model to DISEASE1.h5\n",
      "27/27 [==============================] - 7s 277ms/step - loss: 0.0315 - accuracy: 1.0000 - val_loss: 0.6856 - val_accuracy: 0.8229\n",
      "Epoch 25/50\n",
      "27/27 [==============================] - ETA: 0s - loss: 0.0285 - accuracy: 1.0000\n",
      "Epoch 25: accuracy did not improve from 1.00000\n",
      "27/27 [==============================] - 7s 277ms/step - loss: 0.0285 - accuracy: 1.0000 - val_loss: 0.7302 - val_accuracy: 0.8229\n",
      "Epoch 26/50\n",
      "27/27 [==============================] - ETA: 0s - loss: 0.0213 - accuracy: 1.0000\n",
      "Epoch 26: accuracy did not improve from 1.00000\n",
      "27/27 [==============================] - 7s 262ms/step - loss: 0.0213 - accuracy: 1.0000 - val_loss: 0.6776 - val_accuracy: 0.8333\n",
      "Epoch 27/50\n",
      "27/27 [==============================] - ETA: 0s - loss: 0.0253 - accuracy: 0.9977\n",
      "Epoch 27: accuracy did not improve from 1.00000\n",
      "27/27 [==============================] - 8s 297ms/step - loss: 0.0253 - accuracy: 0.9977 - val_loss: 0.8264 - val_accuracy: 0.8333\n",
      "Epoch 28/50\n",
      "27/27 [==============================] - ETA: 0s - loss: 0.0193 - accuracy: 1.0000\n",
      "Epoch 28: accuracy did not improve from 1.00000\n",
      "27/27 [==============================] - 8s 307ms/step - loss: 0.0193 - accuracy: 1.0000 - val_loss: 0.6817 - val_accuracy: 0.8542\n",
      "Epoch 29/50\n",
      "27/27 [==============================] - ETA: 0s - loss: 0.0171 - accuracy: 1.0000\n",
      "Epoch 29: accuracy did not improve from 1.00000\n",
      "27/27 [==============================] - 8s 284ms/step - loss: 0.0171 - accuracy: 1.0000 - val_loss: 0.7721 - val_accuracy: 0.8229\n"
     ]
    },
    {
     "name": "stdout",
     "output_type": "stream",
     "text": [
      "Epoch 30/50\n",
      "27/27 [==============================] - ETA: 0s - loss: 0.0139 - accuracy: 1.0000\n",
      "Epoch 30: accuracy did not improve from 1.00000\n",
      "27/27 [==============================] - 8s 282ms/step - loss: 0.0139 - accuracy: 1.0000 - val_loss: 0.6628 - val_accuracy: 0.8333\n",
      "Epoch 31/50\n",
      "27/27 [==============================] - ETA: 0s - loss: 0.0122 - accuracy: 1.0000\n",
      "Epoch 31: accuracy did not improve from 1.00000\n",
      "27/27 [==============================] - 7s 270ms/step - loss: 0.0122 - accuracy: 1.0000 - val_loss: 0.6909 - val_accuracy: 0.8438\n",
      "Epoch 32/50\n",
      "27/27 [==============================] - ETA: 0s - loss: 0.0119 - accuracy: 1.0000\n",
      "Epoch 32: accuracy did not improve from 1.00000\n",
      "27/27 [==============================] - 8s 284ms/step - loss: 0.0119 - accuracy: 1.0000 - val_loss: 0.6868 - val_accuracy: 0.8438\n",
      "Epoch 33/50\n",
      "27/27 [==============================] - ETA: 0s - loss: 0.0099 - accuracy: 1.0000\n",
      "Epoch 33: accuracy did not improve from 1.00000\n",
      "27/27 [==============================] - 8s 286ms/step - loss: 0.0099 - accuracy: 1.0000 - val_loss: 0.7122 - val_accuracy: 0.8438\n",
      "Epoch 34/50\n",
      "27/27 [==============================] - ETA: 0s - loss: 0.0110 - accuracy: 0.9988\n",
      "Epoch 34: accuracy did not improve from 1.00000\n",
      "27/27 [==============================] - 8s 303ms/step - loss: 0.0110 - accuracy: 0.9988 - val_loss: 0.7138 - val_accuracy: 0.8229\n",
      "Epoch 35/50\n",
      "27/27 [==============================] - ETA: 0s - loss: 0.0159 - accuracy: 0.9977\n",
      "Epoch 35: accuracy did not improve from 1.00000\n",
      "27/27 [==============================] - 8s 307ms/step - loss: 0.0159 - accuracy: 0.9977 - val_loss: 0.8578 - val_accuracy: 0.8021\n",
      "Epoch 36/50\n",
      "27/27 [==============================] - ETA: 0s - loss: 0.0254 - accuracy: 0.9988\n",
      "Epoch 36: accuracy did not improve from 1.00000\n",
      "27/27 [==============================] - 8s 280ms/step - loss: 0.0254 - accuracy: 0.9988 - val_loss: 0.7314 - val_accuracy: 0.8438\n",
      "Epoch 37/50\n",
      "27/27 [==============================] - ETA: 0s - loss: 0.0342 - accuracy: 0.9954\n",
      "Epoch 37: accuracy did not improve from 1.00000\n",
      "27/27 [==============================] - 8s 306ms/step - loss: 0.0342 - accuracy: 0.9954 - val_loss: 0.8154 - val_accuracy: 0.8333\n",
      "Epoch 38/50\n",
      "27/27 [==============================] - ETA: 0s - loss: 0.0304 - accuracy: 0.9931\n",
      "Epoch 38: accuracy did not improve from 1.00000\n",
      "27/27 [==============================] - 8s 312ms/step - loss: 0.0304 - accuracy: 0.9931 - val_loss: 0.8341 - val_accuracy: 0.8333\n",
      "Epoch 39/50\n",
      "27/27 [==============================] - ETA: 0s - loss: 0.0504 - accuracy: 0.9826\n",
      "Epoch 39: accuracy did not improve from 1.00000\n",
      "27/27 [==============================] - 8s 294ms/step - loss: 0.0504 - accuracy: 0.9826 - val_loss: 0.7795 - val_accuracy: 0.8021\n",
      "Epoch 40/50\n",
      "27/27 [==============================] - ETA: 0s - loss: 0.0390 - accuracy: 0.9931\n",
      "Epoch 40: accuracy did not improve from 1.00000\n",
      "27/27 [==============================] - 8s 279ms/step - loss: 0.0390 - accuracy: 0.9931 - val_loss: 0.7799 - val_accuracy: 0.8125\n",
      "Epoch 41/50\n",
      "27/27 [==============================] - ETA: 0s - loss: 0.0284 - accuracy: 0.9954\n",
      "Epoch 41: accuracy did not improve from 1.00000\n",
      "27/27 [==============================] - 9s 334ms/step - loss: 0.0284 - accuracy: 0.9954 - val_loss: 0.6839 - val_accuracy: 0.7812\n",
      "Epoch 42/50\n",
      "27/27 [==============================] - ETA: 0s - loss: 0.0244 - accuracy: 0.9977\n",
      "Epoch 42: accuracy did not improve from 1.00000\n",
      "27/27 [==============================] - 8s 300ms/step - loss: 0.0244 - accuracy: 0.9977 - val_loss: 0.6629 - val_accuracy: 0.8438\n",
      "Epoch 43/50\n",
      "27/27 [==============================] - ETA: 0s - loss: 0.0095 - accuracy: 1.0000\n",
      "Epoch 43: accuracy did not improve from 1.00000\n",
      "27/27 [==============================] - 8s 292ms/step - loss: 0.0095 - accuracy: 1.0000 - val_loss: 0.6211 - val_accuracy: 0.8542\n",
      "Epoch 44/50\n",
      "27/27 [==============================] - ETA: 0s - loss: 0.0074 - accuracy: 1.0000\n",
      "Epoch 44: accuracy did not improve from 1.00000\n",
      "27/27 [==============================] - 7s 272ms/step - loss: 0.0074 - accuracy: 1.0000 - val_loss: 0.6253 - val_accuracy: 0.8542\n",
      "Epoch 45/50\n",
      "27/27 [==============================] - ETA: 0s - loss: 0.0067 - accuracy: 1.0000\n",
      "Epoch 45: accuracy did not improve from 1.00000\n",
      "27/27 [==============================] - 7s 272ms/step - loss: 0.0067 - accuracy: 1.0000 - val_loss: 0.6280 - val_accuracy: 0.8542\n",
      "Epoch 46/50\n",
      "27/27 [==============================] - ETA: 0s - loss: 0.0062 - accuracy: 1.0000\n",
      "Epoch 46: accuracy did not improve from 1.00000\n",
      "27/27 [==============================] - 7s 259ms/step - loss: 0.0062 - accuracy: 1.0000 - val_loss: 0.6288 - val_accuracy: 0.8542\n",
      "Epoch 47/50\n",
      "27/27 [==============================] - ETA: 0s - loss: 0.0056 - accuracy: 1.0000\n",
      "Epoch 47: accuracy did not improve from 1.00000\n",
      "27/27 [==============================] - 7s 273ms/step - loss: 0.0056 - accuracy: 1.0000 - val_loss: 0.6277 - val_accuracy: 0.8542\n",
      "Epoch 48/50\n",
      "27/27 [==============================] - ETA: 0s - loss: 0.0049 - accuracy: 1.0000\n",
      "Epoch 48: accuracy did not improve from 1.00000\n",
      "27/27 [==============================] - 7s 251ms/step - loss: 0.0049 - accuracy: 1.0000 - val_loss: 0.6421 - val_accuracy: 0.8542\n",
      "Epoch 49/50\n",
      "27/27 [==============================] - ETA: 0s - loss: 0.0048 - accuracy: 1.0000\n",
      "Epoch 49: accuracy did not improve from 1.00000\n",
      "27/27 [==============================] - 7s 250ms/step - loss: 0.0048 - accuracy: 1.0000 - val_loss: 0.6391 - val_accuracy: 0.8542\n",
      "Epoch 50/50\n",
      "27/27 [==============================] - ETA: 0s - loss: 0.0046 - accuracy: 1.0000\n",
      "Epoch 50: accuracy did not improve from 1.00000\n",
      "27/27 [==============================] - 7s 252ms/step - loss: 0.0046 - accuracy: 1.0000 - val_loss: 0.6213 - val_accuracy: 0.8646\n"
     ]
    },
    {
     "data": {
      "text/plain": [
       "<keras.src.callbacks.History at 0x29bd4ff2210>"
      ]
     },
     "execution_count": 21,
     "metadata": {},
     "output_type": "execute_result"
    }
   ],
   "source": [
    "model.fit(x_train_padded, y_train, epochs=epochs, batch_size=batch_size, validation_split=0.1,callbacks=[model_checkpoint])"
   ]
  },
  {
   "cell_type": "code",
   "execution_count": 22,
   "id": "b5a5293b",
   "metadata": {},
   "outputs": [
    {
     "name": "stdout",
     "output_type": "stream",
     "text": [
      "8/8 [==============================] - 3s 44ms/step\n"
     ]
    }
   ],
   "source": [
    "y_pred = model.predict(x_test_padded)\n",
    "y_pred_classes = np.argmax(y_pred, axis=1)\n",
    "y_true_classes = np.argmax(y_test, axis=1)"
   ]
  },
  {
   "cell_type": "code",
   "execution_count": 23,
   "id": "7afd0f03",
   "metadata": {},
   "outputs": [
    {
     "name": "stdout",
     "output_type": "stream",
     "text": [
      "THE ACCURACY SCORE OF GRATED RECURREND UNIT ARCHITECTURE IS : 86.25\n"
     ]
    }
   ],
   "source": [
    "from sklearn.metrics import accuracy_score\n",
    "\n",
    "AC = accuracy_score(y_pred_classes,y_true_classes)\n",
    "\n",
    "print(\"THE ACCURACY SCORE OF GRATED RECURREND UNIT ARCHITECTURE IS :\",AC*100)"
   ]
  },
  {
   "cell_type": "code",
   "execution_count": 24,
   "id": "ea2ef045",
   "metadata": {},
   "outputs": [
    {
     "name": "stdout",
     "output_type": "stream",
     "text": [
      "THE HAMMING LOSS OF GRATED RECURREND UNIT ARCHITECTURE IS : 13.750000000000002\n"
     ]
    }
   ],
   "source": [
    "from sklearn.metrics import hamming_loss\n",
    "\n",
    "HL = hamming_loss(y_pred_classes,y_true_classes)\n",
    "\n",
    "print(\"THE HAMMING LOSS OF GRATED RECURREND UNIT ARCHITECTURE IS :\",HL*100)"
   ]
  },
  {
   "cell_type": "code",
   "execution_count": 25,
   "id": "5c2490d3",
   "metadata": {},
   "outputs": [
    {
     "name": "stdout",
     "output_type": "stream",
     "text": [
      "THE PRECISION SCORE OF GRATED RECURREND UNIT ARCHITECTURE:\n",
      "\n",
      "\n",
      "               precision    recall  f1-score   support\n",
      "\n",
      "           0       1.00      1.00      1.00         6\n",
      "           1       1.00      1.00      1.00         9\n",
      "           2       0.83      1.00      0.91        10\n",
      "           3       0.82      0.90      0.86        10\n",
      "           4       0.75      0.69      0.72        13\n",
      "           5       1.00      0.87      0.93        15\n",
      "           6       0.50      0.75      0.60         8\n",
      "           7       1.00      1.00      1.00         7\n",
      "           8       1.00      1.00      1.00         7\n",
      "           9       0.90      0.75      0.82        12\n",
      "          10       0.90      0.82      0.86        11\n",
      "          11       1.00      1.00      1.00         7\n",
      "          12       1.00      0.92      0.96        12\n",
      "          13       0.91      0.91      0.91        11\n",
      "          14       1.00      0.92      0.96        13\n",
      "          15       0.82      0.90      0.86        10\n",
      "          16       0.80      0.50      0.62         8\n",
      "          17       0.75      0.86      0.80         7\n",
      "          18       0.75      1.00      0.86         9\n",
      "          19       0.82      0.75      0.78        12\n",
      "          20       0.70      0.88      0.78         8\n",
      "          21       1.00      0.85      0.92        13\n",
      "          22       0.82      0.90      0.86        10\n",
      "          23       0.82      0.75      0.78        12\n",
      "\n",
      "    accuracy                           0.86       240\n",
      "   macro avg       0.87      0.87      0.87       240\n",
      "weighted avg       0.87      0.86      0.86       240\n",
      "\n"
     ]
    }
   ],
   "source": [
    "from sklearn.metrics import classification_report\n",
    "\n",
    "CR = classification_report(y_pred_classes,y_true_classes)\n",
    "\n",
    "print('THE PRECISION SCORE OF GRATED RECURREND UNIT ARCHITECTURE:\\n\\n\\n',CR)"
   ]
  },
  {
   "cell_type": "code",
   "execution_count": 26,
   "id": "092eabd8",
   "metadata": {},
   "outputs": [
    {
     "name": "stdout",
     "output_type": "stream",
     "text": [
      "THE CONFUSION MATRIX SCORE OF GRATED RECURREND UNIT ARCHITECTURE:\n",
      "\n",
      "\n",
      " [[ 6  0  0  0  0  0  0  0  0  0  0  0  0  0  0  0  0  0  0  0  0  0  0  0]\n",
      " [ 0  9  0  0  0  0  0  0  0  0  0  0  0  0  0  0  0  0  0  0  0  0  0  0]\n",
      " [ 0  0 10  0  0  0  0  0  0  0  0  0  0  0  0  0  0  0  0  0  0  0  0  0]\n",
      " [ 0  0  0  9  0  0  1  0  0  0  0  0  0  0  0  0  0  0  0  0  0  0  0  0]\n",
      " [ 0  0  0  0  9  0  1  0  0  0  0  0  0  0  0  0  1  2  0  0  0  0  0  0]\n",
      " [ 0  0  0  0  0 13  0  0  0  0  0  0  0  0  0  1  0  0  1  0  0  0  0  0]\n",
      " [ 0  0  0  0  0  0  6  0  0  0  0  0  0  1  0  0  0  0  0  1  0  0  0  0]\n",
      " [ 0  0  0  0  0  0  0  7  0  0  0  0  0  0  0  0  0  0  0  0  0  0  0  0]\n",
      " [ 0  0  0  0  0  0  0  0  7  0  0  0  0  0  0  0  0  0  0  0  0  0  0  0]\n",
      " [ 0  0  0  2  0  0  1  0  0  9  0  0  0  0  0  0  0  0  0  0  0  0  0  0]\n",
      " [ 0  0  0  0  2  0  0  0  0  0  9  0  0  0  0  0  0  0  0  0  0  0  0  0]\n",
      " [ 0  0  0  0  0  0  0  0  0  0  0  7  0  0  0  0  0  0  0  0  0  0  0  0]\n",
      " [ 0  0  0  0  0  0  0  0  0  0  0  0 11  0  0  0  0  0  0  0  1  0  0  0]\n",
      " [ 0  0  0  0  0  0  0  0  0  0  0  0  0 10  0  0  0  0  0  1  0  0  0  0]\n",
      " [ 0  0  1  0  0  0  0  0  0  0  0  0  0  0 12  0  0  0  0  0  0  0  0  0]\n",
      " [ 0  0  0  0  0  0  0  0  0  0  1  0  0  0  0  9  0  0  0  0  0  0  0  0]\n",
      " [ 0  0  1  0  1  0  2  0  0  0  0  0  0  0  0  0  4  0  0  0  0  0  0  0]\n",
      " [ 0  0  0  0  0  0  1  0  0  0  0  0  0  0  0  0  0  6  0  0  0  0  0  0]\n",
      " [ 0  0  0  0  0  0  0  0  0  0  0  0  0  0  0  0  0  0  9  0  0  0  0  0]\n",
      " [ 0  0  0  0  0  0  0  0  0  0  0  0  0  0  0  0  0  0  0  9  0  0  2  1]\n",
      " [ 0  0  0  0  0  0  0  0  0  0  0  0  0  0  0  0  0  0  0  0  7  0  0  1]\n",
      " [ 0  0  0  0  0  0  0  0  0  0  0  0  0  0  0  0  0  0  2  0  0 11  0  0]\n",
      " [ 0  0  0  0  0  0  0  0  0  0  0  0  0  0  0  1  0  0  0  0  0  0  9  0]\n",
      " [ 0  0  0  0  0  0  0  0  0  1  0  0  0  0  0  0  0  0  0  0  2  0  0  9]]\n"
     ]
    }
   ],
   "source": [
    "from sklearn.metrics import confusion_matrix\n",
    "\n",
    "CM = confusion_matrix(y_pred_classes,y_true_classes)\n",
    "\n",
    "print('THE CONFUSION MATRIX SCORE OF GRATED RECURREND UNIT ARCHITECTURE:\\n\\n\\n',CM)"
   ]
  },
  {
   "cell_type": "code",
   "execution_count": 27,
   "id": "28378a3d",
   "metadata": {},
   "outputs": [
    {
     "data": {
      "image/png": "[encoded data removed]",
      "text/plain": [
       "<Figure size 640x480 with 2 Axes>"
      ]
     },
     "metadata": {},
     "output_type": "display_data"
    }
   ],
   "source": [
    "import numpy as np\n",
    "import matplotlib.pyplot as plt\n",
    "from sklearn.metrics import confusion_matrix, ConfusionMatrixDisplay\n",
    "\n",
    "cm = confusion_matrix(y_true_classes, y_pred_classes)\n",
    "\n",
    "classes = np.arange(cm.shape[0])\n",
    "disp = ConfusionMatrixDisplay(confusion_matrix=cm, display_labels=classes)\n",
    "disp.plot(cmap='viridis', values_format='d')\n",
    "\n",
    "plt.title('DISPLAY CONFUSION MATRIX OF GRATED RECURREND UNIT ARCHITECTURE\\n\\n')\n",
    "plt.xlabel('Predicted Label')\n",
    "plt.ylabel('True Label')\n",
    "plt.show()\n"
   ]
  },
  {
   "cell_type": "code",
   "execution_count": 28,
   "id": "f3a970f4",
   "metadata": {},
   "outputs": [
    {
     "data": {
      "image/png": "[encoded data removed]",
      "text/plain": [
       "<Figure size 500x500 with 1 Axes>"
      ]
     },
     "metadata": {},
     "output_type": "display_data"
    }
   ],
   "source": [
    "def graph():\n",
    "    import matplotlib.pyplot as plt\n",
    "    data=[AC]\n",
    "    alg=\"GRATED RECURREND UNIT ARCHITECTURE\"\n",
    "    plt.figure(figsize=(5,5))\n",
    "    b=plt.bar(alg,data,color=(\"RED\"))\n",
    "    plt.title(\"THE ACCURACY SCORE OF GRATED RECURREND UNIT ARCHITECTURE IS\\n\\n\\n\")\n",
    "    plt.legend(b,data,fontsize=9)\n",
    "graph()"
   ]
  },
  {
   "cell_type": "code",
   "execution_count": null,
   "id": "13ce03c8",
   "metadata": {},
   "outputs": [],
   "source": []
  }
 ],
 "metadata": {
  "kernelspec": {
   "display_name": "Python 3 (ipykernel)",
   "language": "python",
   "name": "python3"
  },
  "language_info": {
   "codemirror_mode": {
    "name": "ipython",
    "version": 3
   },
   "file_extension": ".py",
   "mimetype": "text/x-python",
   "name": "python",
   "nbconvert_exporter": "python",
   "pygments_lexer": "ipython3",
   "version": "3.11.5"
  }
 },
 "nbformat": 4,
 "nbformat_minor": 5
}
