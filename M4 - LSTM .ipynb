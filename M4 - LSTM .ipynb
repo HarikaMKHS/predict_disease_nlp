{
 "cells": [
  {
   "cell_type": "markdown",
   "id": "58a7dc8d",
   "metadata": {},
   "source": [
    "### LSTM ARCHITECTURE"
   ]
  },
  {
   "cell_type": "code",
   "execution_count": 2,
   "id": "f40f6596",
   "metadata": {},
   "outputs": [],
   "source": [
    "import pandas as pd\n",
    "import numpy as np"
   ]
  },
  {
   "cell_type": "code",
   "execution_count": 3,
   "id": "62beca64",
   "metadata": {},
   "outputs": [
    {
     "data": {
      "text/html": [
       "<div>\n",
       "<style scoped>\n",
       "    .dataframe tbody tr th:only-of-type {\n",
       "        vertical-align: middle;\n",
       "    }\n",
       "\n",
       "    .dataframe tbody tr th {\n",
       "        vertical-align: top;\n",
       "    }\n",
       "\n",
       "    .dataframe thead th {\n",
       "        text-align: right;\n",
       "    }\n",
       "</style>\n",
       "<table border=\"1\" class=\"dataframe\">\n",
       "  <thead>\n",
       "    <tr style=\"text-align: right;\">\n",
       "      <th></th>\n",
       "      <th>label</th>\n",
       "      <th>text</th>\n",
       "    </tr>\n",
       "  </thead>\n",
       "  <tbody>\n",
       "    <tr>\n",
       "      <th>0</th>\n",
       "      <td>Acne</td>\n",
       "      <td>I've been having a really bad rash on my skin ...</td>\n",
       "    </tr>\n",
       "    <tr>\n",
       "      <th>1</th>\n",
       "      <td>Acne</td>\n",
       "      <td>I've just developed a severe rash on my skin. ...</td>\n",
       "    </tr>\n",
       "    <tr>\n",
       "      <th>2</th>\n",
       "      <td>Acne</td>\n",
       "      <td>My skin has been breaking out in a terrible ra...</td>\n",
       "    </tr>\n",
       "    <tr>\n",
       "      <th>3</th>\n",
       "      <td>Acne</td>\n",
       "      <td>I've recently been experiencing a severe skin ...</td>\n",
       "    </tr>\n",
       "    <tr>\n",
       "      <th>4</th>\n",
       "      <td>Acne</td>\n",
       "      <td>I've been having a very unhealthy rash on my s...</td>\n",
       "    </tr>\n",
       "  </tbody>\n",
       "</table>\n",
       "</div>"
      ],
      "text/plain": [
       "  label                                               text\n",
       "0  Acne  I've been having a really bad rash on my skin ...\n",
       "1  Acne  I've just developed a severe rash on my skin. ...\n",
       "2  Acne  My skin has been breaking out in a terrible ra...\n",
       "3  Acne  I've recently been experiencing a severe skin ...\n",
       "4  Acne  I've been having a very unhealthy rash on my s..."
      ]
     },
     "execution_count": 3,
     "metadata": {},
     "output_type": "execute_result"
    }
   ],
   "source": [
    "Data = pd.read_csv('SYMPTOMS.csv', usecols=['label','text'])\n",
    "Data.head()"
   ]
  },
  {
   "cell_type": "code",
   "execution_count": 4,
   "id": "43b4bf60",
   "metadata": {},
   "outputs": [
    {
     "data": {
      "text/html": [
       "<div>\n",
       "<style scoped>\n",
       "    .dataframe tbody tr th:only-of-type {\n",
       "        vertical-align: middle;\n",
       "    }\n",
       "\n",
       "    .dataframe tbody tr th {\n",
       "        vertical-align: top;\n",
       "    }\n",
       "\n",
       "    .dataframe thead th {\n",
       "        text-align: right;\n",
       "    }\n",
       "</style>\n",
       "<table border=\"1\" class=\"dataframe\">\n",
       "  <thead>\n",
       "    <tr style=\"text-align: right;\">\n",
       "      <th></th>\n",
       "      <th>label</th>\n",
       "      <th>text</th>\n",
       "    </tr>\n",
       "  </thead>\n",
       "  <tbody>\n",
       "    <tr>\n",
       "      <th>1195</th>\n",
       "      <td>Varicose Veins</td>\n",
       "      <td>My legs' swelling has become worse over the la...</td>\n",
       "    </tr>\n",
       "    <tr>\n",
       "      <th>1196</th>\n",
       "      <td>Varicose Veins</td>\n",
       "      <td>Long durations of standing or walking have cau...</td>\n",
       "    </tr>\n",
       "    <tr>\n",
       "      <th>1197</th>\n",
       "      <td>Varicose Veins</td>\n",
       "      <td>My legs' skin around the veins is unusual. The...</td>\n",
       "    </tr>\n",
       "    <tr>\n",
       "      <th>1198</th>\n",
       "      <td>Varicose Veins</td>\n",
       "      <td>I am experiencing too many cramps in the last ...</td>\n",
       "    </tr>\n",
       "    <tr>\n",
       "      <th>1199</th>\n",
       "      <td>Varicose Veins</td>\n",
       "      <td>The veins in my calves are protruding out quit...</td>\n",
       "    </tr>\n",
       "  </tbody>\n",
       "</table>\n",
       "</div>"
      ],
      "text/plain": [
       "               label                                               text\n",
       "1195  Varicose Veins  My legs' swelling has become worse over the la...\n",
       "1196  Varicose Veins  Long durations of standing or walking have cau...\n",
       "1197  Varicose Veins  My legs' skin around the veins is unusual. The...\n",
       "1198  Varicose Veins  I am experiencing too many cramps in the last ...\n",
       "1199  Varicose Veins  The veins in my calves are protruding out quit..."
      ]
     },
     "execution_count": 4,
     "metadata": {},
     "output_type": "execute_result"
    }
   ],
   "source": [
    "Data.tail()"
   ]
  },
  {
   "cell_type": "code",
   "execution_count": 5,
   "id": "59b21d72",
   "metadata": {},
   "outputs": [
    {
     "data": {
      "text/plain": [
       "label\n",
       "Acne                               50\n",
       "allergy                            50\n",
       "urinary tract infection            50\n",
       "Typhoid                            50\n",
       "Psoriasis                          50\n",
       "Pneumonia                          50\n",
       "peptic ulcer disease               50\n",
       "Migraine                           50\n",
       "Malaria                            50\n",
       "Jaundice                           50\n",
       "Impetigo                           50\n",
       "Hypertension                       50\n",
       "gastroesophageal reflux disease    50\n",
       "Fungal infection                   50\n",
       "drug reaction                      50\n",
       "Dimorphic Hemorrhoids              50\n",
       "diabetes                           50\n",
       "Dengue                             50\n",
       "Common Cold                        50\n",
       "Chicken pox                        50\n",
       "Cervical spondylosis               50\n",
       "Bronchial Asthma                   50\n",
       "Arthritis                          50\n",
       "Varicose Veins                     50\n",
       "Name: count, dtype: int64"
      ]
     },
     "execution_count": 5,
     "metadata": {},
     "output_type": "execute_result"
    }
   ],
   "source": [
    "Data['label'].value_counts()"
   ]
  },
  {
   "cell_type": "code",
   "execution_count": 6,
   "id": "15eeec04",
   "metadata": {},
   "outputs": [],
   "source": [
    "Data['text'] = Data['text'].apply(lambda x: x.lower() if pd.notna(x) else \"\")"
   ]
  },
  {
   "cell_type": "code",
   "execution_count": 7,
   "id": "7537b6b5",
   "metadata": {},
   "outputs": [],
   "source": [
    "from sklearn.preprocessing import LabelEncoder\n",
    "\n",
    "label_encoder = LabelEncoder()\n",
    "Data['label'] = label_encoder.fit_transform(Data['label'])"
   ]
  },
  {
   "cell_type": "code",
   "execution_count": 8,
   "id": "92676667",
   "metadata": {},
   "outputs": [],
   "source": [
    "num_classes = len(label_encoder.classes_) "
   ]
  },
  {
   "cell_type": "code",
   "execution_count": 9,
   "id": "753f4b88",
   "metadata": {},
   "outputs": [],
   "source": [
    "x = Data['text']\n",
    "y = Data['label']"
   ]
  },
  {
   "cell_type": "code",
   "execution_count": 10,
   "id": "6369e19b",
   "metadata": {},
   "outputs": [
    {
     "name": "stdout",
     "output_type": "stream",
     "text": [
      "WARNING:tensorflow:From C:\\Users\\Harika\\anaconda3\\Lib\\site-packages\\keras\\src\\losses.py:2976: The name tf.losses.sparse_softmax_cross_entropy is deprecated. Please use tf.compat.v1.losses.sparse_softmax_cross_entropy instead.\n",
      "\n"
     ]
    }
   ],
   "source": [
    "from tensorflow.keras.utils import to_categorical\n",
    "\n",
    "y = to_categorical(y, num_classes=num_classes)"
   ]
  },
  {
   "cell_type": "code",
   "execution_count": 11,
   "id": "526d9637",
   "metadata": {},
   "outputs": [],
   "source": [
    "from sklearn.model_selection import train_test_split\n",
    "\n",
    "x_train, x_test, y_train, y_test = train_test_split(x, y, test_size=0.2, random_state=42)"
   ]
  },
  {
   "cell_type": "code",
   "execution_count": 12,
   "id": "10b2f33c",
   "metadata": {},
   "outputs": [],
   "source": [
    "max_words = 10000  \n",
    "max_sequence_length = 100"
   ]
  },
  {
   "cell_type": "code",
   "execution_count": 13,
   "id": "b94b922f",
   "metadata": {},
   "outputs": [],
   "source": [
    "from tensorflow.keras.preprocessing.text import Tokenizer\n",
    "\n",
    "tokenizer = Tokenizer(num_words=max_words)\n",
    "tokenizer.fit_on_texts(x_train)"
   ]
  },
  {
   "cell_type": "code",
   "execution_count": 14,
   "id": "8f4e9c46",
   "metadata": {},
   "outputs": [],
   "source": [
    "X_train_sequences = tokenizer.texts_to_sequences(x_train)\n",
    "X_test_sequences = tokenizer.texts_to_sequences(x_test)"
   ]
  },
  {
   "cell_type": "code",
   "execution_count": 15,
   "id": "6f831140",
   "metadata": {},
   "outputs": [],
   "source": [
    "from tensorflow.keras.preprocessing.sequence import pad_sequences\n",
    "\n",
    "X_train_padded = pad_sequences(X_train_sequences, maxlen=max_sequence_length)\n",
    "X_test_padded = pad_sequences(X_test_sequences, maxlen=max_sequence_length)"
   ]
  },
  {
   "cell_type": "code",
   "execution_count": 16,
   "id": "490ac782",
   "metadata": {},
   "outputs": [],
   "source": [
    "embedding_dim = 100  \n",
    "lstm_units = 128"
   ]
  },
  {
   "cell_type": "code",
   "execution_count": 17,
   "id": "e8491acc",
   "metadata": {},
   "outputs": [],
   "source": [
    "from tensorflow.keras.models import Sequential\n",
    "from tensorflow.keras.layers import Embedding\n",
    "from tensorflow.keras.layers import Bidirectional\n",
    "from tensorflow.keras.layers import LSTM\n",
    "from tensorflow.keras.layers import Dense"
   ]
  },
  {
   "cell_type": "code",
   "execution_count": 18,
   "id": "52b2d9ee",
   "metadata": {},
   "outputs": [
    {
     "name": "stdout",
     "output_type": "stream",
     "text": [
      "WARNING:tensorflow:From C:\\Users\\Harika\\anaconda3\\Lib\\site-packages\\keras\\src\\backend.py:873: The name tf.get_default_graph is deprecated. Please use tf.compat.v1.get_default_graph instead.\n",
      "\n"
     ]
    }
   ],
   "source": [
    "model = Sequential()\n",
    "model.add(Embedding(input_dim=max_words, output_dim=embedding_dim, input_length=max_sequence_length))\n",
    "model.add(Bidirectional(LSTM(units=lstm_units, dropout=0.2, recurrent_dropout=0.2)))\n",
    "model.add(Dense(units=num_classes, activation='softmax'))"
   ]
  },
  {
   "cell_type": "code",
   "execution_count": 19,
   "id": "db721ff6",
   "metadata": {},
   "outputs": [
    {
     "name": "stdout",
     "output_type": "stream",
     "text": [
      "WARNING:tensorflow:From C:\\Users\\Harika\\anaconda3\\Lib\\site-packages\\keras\\src\\optimizers\\__init__.py:309: The name tf.train.Optimizer is deprecated. Please use tf.compat.v1.train.Optimizer instead.\n",
      "\n"
     ]
    }
   ],
   "source": [
    "model.compile(loss='categorical_crossentropy', optimizer='adam', metrics=['accuracy'])"
   ]
  },
  {
   "cell_type": "code",
   "execution_count": 20,
   "id": "a4cb3f7d",
   "metadata": {},
   "outputs": [],
   "source": [
    "from tensorflow.keras.callbacks import ModelCheckpoint\n",
    "\n",
    "model_checkpoint = ModelCheckpoint('DISEASE.h5', \n",
    "                                   monitor='accuracy', \n",
    "                                   save_best_only=True, \n",
    "                                   verbose=1,\n",
    "                                   mode='max')"
   ]
  },
  {
   "cell_type": "code",
   "execution_count": 21,
   "id": "34a45025",
   "metadata": {},
   "outputs": [],
   "source": [
    "epochs = 50\n",
    "batch_size = 32"
   ]
  },
  {
   "cell_type": "code",
   "execution_count": 22,
   "id": "1a806964",
   "metadata": {
    "scrolled": true
   },
   "outputs": [
    {
     "name": "stdout",
     "output_type": "stream",
     "text": [
      "Epoch 1/50\n",
      "WARNING:tensorflow:From C:\\Users\\Harika\\anaconda3\\Lib\\site-packages\\keras\\src\\utils\\tf_utils.py:492: The name tf.ragged.RaggedTensorValue is deprecated. Please use tf.compat.v1.ragged.RaggedTensorValue instead.\n",
      "\n",
      "WARNING:tensorflow:From C:\\Users\\Harika\\anaconda3\\Lib\\site-packages\\keras\\src\\engine\\base_layer_utils.py:384: The name tf.executing_eagerly_outside_functions is deprecated. Please use tf.compat.v1.executing_eagerly_outside_functions instead.\n",
      "\n",
      "27/27 [==============================] - ETA: 0s - loss: 3.1646 - accuracy: 0.0926\n",
      "Epoch 1: accuracy improved from -inf to 0.09259, saving model to DISEASE.h5\n",
      "27/27 [==============================] - 16s 367ms/step - loss: 3.1646 - accuracy: 0.0926 - val_loss: 3.1157 - val_accuracy: 0.3021\n",
      "Epoch 2/50\n"
     ]
    },
    {
     "name": "stderr",
     "output_type": "stream",
     "text": [
      "C:\\Users\\Harika\\anaconda3\\Lib\\site-packages\\keras\\src\\engine\\training.py:3103: UserWarning: You are saving your model as an HDF5 file via `model.save()`. This file format is considered legacy. We recommend using instead the native Keras format, e.g. `model.save('my_model.keras')`.\n",
      "  saving_api.save_model(\n"
     ]
    },
    {
     "name": "stdout",
     "output_type": "stream",
     "text": [
      "27/27 [==============================] - ETA: 0s - loss: 2.9270 - accuracy: 0.1863\n",
      "Epoch 2: accuracy improved from 0.09259 to 0.18634, saving model to DISEASE.h5\n",
      "27/27 [==============================] - 8s 291ms/step - loss: 2.9270 - accuracy: 0.1863 - val_loss: 2.7151 - val_accuracy: 0.2500\n",
      "Epoch 3/50\n",
      "27/27 [==============================] - ETA: 0s - loss: 2.4394 - accuracy: 0.3021\n",
      "Epoch 3: accuracy improved from 0.18634 to 0.30208, saving model to DISEASE.h5\n",
      "27/27 [==============================] - 8s 300ms/step - loss: 2.4394 - accuracy: 0.3021 - val_loss: 2.1031 - val_accuracy: 0.3854\n",
      "Epoch 4/50\n",
      "27/27 [==============================] - ETA: 0s - loss: 1.8854 - accuracy: 0.4375\n",
      "Epoch 4: accuracy improved from 0.30208 to 0.43750, saving model to DISEASE.h5\n",
      "27/27 [==============================] - 9s 334ms/step - loss: 1.8854 - accuracy: 0.4375 - val_loss: 1.5882 - val_accuracy: 0.5208\n",
      "Epoch 5/50\n",
      "27/27 [==============================] - ETA: 0s - loss: 1.5259 - accuracy: 0.5405\n",
      "Epoch 5: accuracy improved from 0.43750 to 0.54051, saving model to DISEASE.h5\n",
      "27/27 [==============================] - 9s 327ms/step - loss: 1.5259 - accuracy: 0.5405 - val_loss: 1.3427 - val_accuracy: 0.5521\n",
      "Epoch 6/50\n",
      "27/27 [==============================] - ETA: 0s - loss: 1.2232 - accuracy: 0.7060\n",
      "Epoch 6: accuracy improved from 0.54051 to 0.70602, saving model to DISEASE.h5\n",
      "27/27 [==============================] - 10s 380ms/step - loss: 1.2232 - accuracy: 0.7060 - val_loss: 1.1260 - val_accuracy: 0.6562\n",
      "Epoch 7/50\n",
      "27/27 [==============================] - ETA: 0s - loss: 0.9410 - accuracy: 0.7523\n",
      "Epoch 7: accuracy improved from 0.70602 to 0.75231, saving model to DISEASE.h5\n",
      "27/27 [==============================] - 8s 312ms/step - loss: 0.9410 - accuracy: 0.7523 - val_loss: 1.0006 - val_accuracy: 0.6875\n",
      "Epoch 8/50\n",
      "27/27 [==============================] - ETA: 0s - loss: 0.7535 - accuracy: 0.8102\n",
      "Epoch 8: accuracy improved from 0.75231 to 0.81019, saving model to DISEASE.h5\n",
      "27/27 [==============================] - 10s 354ms/step - loss: 0.7535 - accuracy: 0.8102 - val_loss: 0.8284 - val_accuracy: 0.7917\n",
      "Epoch 9/50\n",
      "27/27 [==============================] - ETA: 0s - loss: 0.5362 - accuracy: 0.8808\n",
      "Epoch 9: accuracy improved from 0.81019 to 0.88079, saving model to DISEASE.h5\n",
      "27/27 [==============================] - 9s 316ms/step - loss: 0.5362 - accuracy: 0.8808 - val_loss: 0.6786 - val_accuracy: 0.7708\n",
      "Epoch 10/50\n",
      "27/27 [==============================] - ETA: 0s - loss: 0.3632 - accuracy: 0.9097\n",
      "Epoch 10: accuracy improved from 0.88079 to 0.90972, saving model to DISEASE.h5\n",
      "27/27 [==============================] - 11s 407ms/step - loss: 0.3632 - accuracy: 0.9097 - val_loss: 0.6014 - val_accuracy: 0.8438\n",
      "Epoch 11/50\n",
      "27/27 [==============================] - ETA: 0s - loss: 0.2517 - accuracy: 0.9456\n",
      "Epoch 11: accuracy improved from 0.90972 to 0.94560, saving model to DISEASE.h5\n",
      "27/27 [==============================] - 10s 365ms/step - loss: 0.2517 - accuracy: 0.9456 - val_loss: 0.6141 - val_accuracy: 0.8021\n",
      "Epoch 12/50\n",
      "27/27 [==============================] - ETA: 0s - loss: 0.1649 - accuracy: 0.9711\n",
      "Epoch 12: accuracy improved from 0.94560 to 0.97106, saving model to DISEASE.h5\n",
      "27/27 [==============================] - 8s 313ms/step - loss: 0.1649 - accuracy: 0.9711 - val_loss: 0.5181 - val_accuracy: 0.8438\n",
      "Epoch 13/50\n",
      "27/27 [==============================] - ETA: 0s - loss: 0.1991 - accuracy: 0.9549\n",
      "Epoch 13: accuracy did not improve from 0.97106\n",
      "27/27 [==============================] - 10s 358ms/step - loss: 0.1991 - accuracy: 0.9549 - val_loss: 0.5375 - val_accuracy: 0.8333\n",
      "Epoch 14/50\n",
      "27/27 [==============================] - ETA: 0s - loss: 0.1716 - accuracy: 0.9664\n",
      "Epoch 14: accuracy did not improve from 0.97106\n",
      "27/27 [==============================] - 8s 306ms/step - loss: 0.1716 - accuracy: 0.9664 - val_loss: 0.5456 - val_accuracy: 0.8229\n",
      "Epoch 15/50\n",
      "27/27 [==============================] - ETA: 0s - loss: 0.1111 - accuracy: 0.9803\n",
      "Epoch 15: accuracy improved from 0.97106 to 0.98032, saving model to DISEASE.h5\n",
      "27/27 [==============================] - 13s 474ms/step - loss: 0.1111 - accuracy: 0.9803 - val_loss: 0.6547 - val_accuracy: 0.7917\n",
      "Epoch 16/50\n",
      "27/27 [==============================] - ETA: 0s - loss: 0.1216 - accuracy: 0.9757\n",
      "Epoch 16: accuracy did not improve from 0.98032\n",
      "27/27 [==============================] - 11s 399ms/step - loss: 0.1216 - accuracy: 0.9757 - val_loss: 0.4935 - val_accuracy: 0.8854\n",
      "Epoch 17/50\n",
      "27/27 [==============================] - ETA: 0s - loss: 0.0572 - accuracy: 0.9931\n",
      "Epoch 17: accuracy improved from 0.98032 to 0.99306, saving model to DISEASE.h5\n",
      "27/27 [==============================] - 9s 351ms/step - loss: 0.0572 - accuracy: 0.9931 - val_loss: 0.4176 - val_accuracy: 0.8854\n",
      "Epoch 18/50\n",
      "27/27 [==============================] - ETA: 0s - loss: 0.0548 - accuracy: 0.9907\n",
      "Epoch 18: accuracy did not improve from 0.99306\n",
      "27/27 [==============================] - 10s 376ms/step - loss: 0.0548 - accuracy: 0.9907 - val_loss: 0.4668 - val_accuracy: 0.8750\n",
      "Epoch 19/50\n",
      "27/27 [==============================] - ETA: 0s - loss: 0.0787 - accuracy: 0.9850\n",
      "Epoch 19: accuracy did not improve from 0.99306\n",
      "27/27 [==============================] - 11s 413ms/step - loss: 0.0787 - accuracy: 0.9850 - val_loss: 0.6176 - val_accuracy: 0.8542\n",
      "Epoch 20/50\n",
      "27/27 [==============================] - ETA: 0s - loss: 0.0716 - accuracy: 0.9826\n",
      "Epoch 20: accuracy did not improve from 0.99306\n",
      "27/27 [==============================] - 10s 359ms/step - loss: 0.0716 - accuracy: 0.9826 - val_loss: 0.5989 - val_accuracy: 0.8229\n",
      "Epoch 21/50\n",
      "27/27 [==============================] - ETA: 0s - loss: 0.0643 - accuracy: 0.9861\n",
      "Epoch 21: accuracy did not improve from 0.99306\n",
      "27/27 [==============================] - 11s 386ms/step - loss: 0.0643 - accuracy: 0.9861 - val_loss: 0.8244 - val_accuracy: 0.7708\n",
      "Epoch 22/50\n",
      "27/27 [==============================] - ETA: 0s - loss: 0.0841 - accuracy: 0.9838\n",
      "Epoch 22: accuracy did not improve from 0.99306\n",
      "27/27 [==============================] - 10s 381ms/step - loss: 0.0841 - accuracy: 0.9838 - val_loss: 0.5747 - val_accuracy: 0.8646\n",
      "Epoch 23/50\n",
      "27/27 [==============================] - ETA: 0s - loss: 0.0691 - accuracy: 0.9907\n",
      "Epoch 23: accuracy did not improve from 0.99306\n",
      "27/27 [==============================] - 9s 334ms/step - loss: 0.0691 - accuracy: 0.9907 - val_loss: 0.6084 - val_accuracy: 0.8750\n",
      "Epoch 24/50\n",
      "27/27 [==============================] - ETA: 0s - loss: 0.0288 - accuracy: 0.9965\n",
      "Epoch 24: accuracy improved from 0.99306 to 0.99653, saving model to DISEASE.h5\n",
      "27/27 [==============================] - 11s 393ms/step - loss: 0.0288 - accuracy: 0.9965 - val_loss: 0.4508 - val_accuracy: 0.8958\n",
      "Epoch 25/50\n",
      "27/27 [==============================] - ETA: 0s - loss: 0.0198 - accuracy: 0.9977\n",
      "Epoch 25: accuracy improved from 0.99653 to 0.99769, saving model to DISEASE.h5\n",
      "27/27 [==============================] - 9s 317ms/step - loss: 0.0198 - accuracy: 0.9977 - val_loss: 0.5101 - val_accuracy: 0.9062\n",
      "Epoch 26/50\n",
      "27/27 [==============================] - ETA: 0s - loss: 0.0132 - accuracy: 0.9988\n",
      "Epoch 26: accuracy improved from 0.99769 to 0.99884, saving model to DISEASE.h5\n",
      "27/27 [==============================] - 10s 359ms/step - loss: 0.0132 - accuracy: 0.9988 - val_loss: 0.5690 - val_accuracy: 0.8750\n",
      "Epoch 27/50\n",
      "27/27 [==============================] - ETA: 0s - loss: 0.0189 - accuracy: 0.9977\n",
      "Epoch 27: accuracy did not improve from 0.99884\n",
      "27/27 [==============================] - 9s 346ms/step - loss: 0.0189 - accuracy: 0.9977 - val_loss: 0.6053 - val_accuracy: 0.8333\n",
      "Epoch 28/50\n",
      "27/27 [==============================] - ETA: 0s - loss: 0.0143 - accuracy: 0.9988\n",
      "Epoch 28: accuracy did not improve from 0.99884\n",
      "27/27 [==============================] - 9s 353ms/step - loss: 0.0143 - accuracy: 0.9988 - val_loss: 0.5677 - val_accuracy: 0.8646\n",
      "Epoch 29/50\n",
      "27/27 [==============================] - ETA: 0s - loss: 0.0097 - accuracy: 1.0000\n",
      "Epoch 29: accuracy improved from 0.99884 to 1.00000, saving model to DISEASE.h5\n",
      "27/27 [==============================] - 10s 385ms/step - loss: 0.0097 - accuracy: 1.0000 - val_loss: 0.5034 - val_accuracy: 0.8958\n"
     ]
    },
    {
     "name": "stdout",
     "output_type": "stream",
     "text": [
      "Epoch 30/50\n",
      "27/27 [==============================] - ETA: 0s - loss: 0.0072 - accuracy: 1.0000\n",
      "Epoch 30: accuracy did not improve from 1.00000\n",
      "27/27 [==============================] - 8s 307ms/step - loss: 0.0072 - accuracy: 1.0000 - val_loss: 0.5442 - val_accuracy: 0.8750\n",
      "Epoch 31/50\n",
      "27/27 [==============================] - ETA: 0s - loss: 0.0060 - accuracy: 1.0000\n",
      "Epoch 31: accuracy did not improve from 1.00000\n",
      "27/27 [==============================] - 9s 346ms/step - loss: 0.0060 - accuracy: 1.0000 - val_loss: 0.5811 - val_accuracy: 0.8438\n",
      "Epoch 32/50\n",
      "27/27 [==============================] - ETA: 0s - loss: 0.0054 - accuracy: 1.0000\n",
      "Epoch 32: accuracy did not improve from 1.00000\n",
      "27/27 [==============================] - 9s 335ms/step - loss: 0.0054 - accuracy: 1.0000 - val_loss: 0.6292 - val_accuracy: 0.8438\n",
      "Epoch 33/50\n",
      "27/27 [==============================] - ETA: 0s - loss: 0.0050 - accuracy: 1.0000\n",
      "Epoch 33: accuracy did not improve from 1.00000\n",
      "27/27 [==============================] - 10s 352ms/step - loss: 0.0050 - accuracy: 1.0000 - val_loss: 0.6395 - val_accuracy: 0.8646\n",
      "Epoch 34/50\n",
      "27/27 [==============================] - ETA: 0s - loss: 0.0046 - accuracy: 1.0000\n",
      "Epoch 34: accuracy did not improve from 1.00000\n",
      "27/27 [==============================] - 13s 479ms/step - loss: 0.0046 - accuracy: 1.0000 - val_loss: 0.6028 - val_accuracy: 0.8646\n",
      "Epoch 35/50\n",
      "27/27 [==============================] - ETA: 0s - loss: 0.0045 - accuracy: 1.0000\n",
      "Epoch 35: accuracy did not improve from 1.00000\n",
      "27/27 [==============================] - 11s 415ms/step - loss: 0.0045 - accuracy: 1.0000 - val_loss: 0.5466 - val_accuracy: 0.8646\n",
      "Epoch 36/50\n",
      "27/27 [==============================] - ETA: 0s - loss: 0.0693 - accuracy: 0.9826\n",
      "Epoch 36: accuracy did not improve from 1.00000\n",
      "27/27 [==============================] - 10s 360ms/step - loss: 0.0693 - accuracy: 0.9826 - val_loss: 0.7067 - val_accuracy: 0.8333\n",
      "Epoch 37/50\n",
      "27/27 [==============================] - ETA: 0s - loss: 0.0742 - accuracy: 0.9803\n",
      "Epoch 37: accuracy did not improve from 1.00000\n",
      "27/27 [==============================] - 11s 423ms/step - loss: 0.0742 - accuracy: 0.9803 - val_loss: 0.6235 - val_accuracy: 0.8333\n",
      "Epoch 38/50\n",
      "27/27 [==============================] - ETA: 0s - loss: 0.0646 - accuracy: 0.9826\n",
      "Epoch 38: accuracy did not improve from 1.00000\n",
      "27/27 [==============================] - 12s 433ms/step - loss: 0.0646 - accuracy: 0.9826 - val_loss: 0.5455 - val_accuracy: 0.9062\n",
      "Epoch 39/50\n",
      "27/27 [==============================] - ETA: 0s - loss: 0.1069 - accuracy: 0.9711\n",
      "Epoch 39: accuracy did not improve from 1.00000\n",
      "27/27 [==============================] - 18s 679ms/step - loss: 0.1069 - accuracy: 0.9711 - val_loss: 0.4899 - val_accuracy: 0.9167\n",
      "Epoch 40/50\n",
      "27/27 [==============================] - ETA: 0s - loss: 0.0526 - accuracy: 0.9884\n",
      "Epoch 40: accuracy did not improve from 1.00000\n",
      "27/27 [==============================] - 10s 365ms/step - loss: 0.0526 - accuracy: 0.9884 - val_loss: 0.6046 - val_accuracy: 0.8229\n",
      "Epoch 41/50\n",
      "27/27 [==============================] - ETA: 0s - loss: 0.0812 - accuracy: 0.9815\n",
      "Epoch 41: accuracy did not improve from 1.00000\n",
      "27/27 [==============================] - 8s 292ms/step - loss: 0.0812 - accuracy: 0.9815 - val_loss: 0.4512 - val_accuracy: 0.8438\n",
      "Epoch 42/50\n",
      "27/27 [==============================] - ETA: 0s - loss: 0.0425 - accuracy: 0.9942\n",
      "Epoch 42: accuracy did not improve from 1.00000\n",
      "27/27 [==============================] - 8s 285ms/step - loss: 0.0425 - accuracy: 0.9942 - val_loss: 0.4917 - val_accuracy: 0.8542\n",
      "Epoch 43/50\n",
      "27/27 [==============================] - ETA: 0s - loss: 0.0208 - accuracy: 0.9977\n",
      "Epoch 43: accuracy did not improve from 1.00000\n",
      "27/27 [==============================] - 8s 295ms/step - loss: 0.0208 - accuracy: 0.9977 - val_loss: 0.4439 - val_accuracy: 0.8958\n",
      "Epoch 44/50\n",
      "27/27 [==============================] - ETA: 0s - loss: 0.0068 - accuracy: 1.0000\n",
      "Epoch 44: accuracy did not improve from 1.00000\n",
      "27/27 [==============================] - 9s 320ms/step - loss: 0.0068 - accuracy: 1.0000 - val_loss: 0.3879 - val_accuracy: 0.9271\n",
      "Epoch 45/50\n",
      "27/27 [==============================] - ETA: 0s - loss: 0.0099 - accuracy: 0.9988\n",
      "Epoch 45: accuracy did not improve from 1.00000\n",
      "27/27 [==============================] - 10s 363ms/step - loss: 0.0099 - accuracy: 0.9988 - val_loss: 0.4110 - val_accuracy: 0.9271\n",
      "Epoch 46/50\n",
      "27/27 [==============================] - ETA: 0s - loss: 0.0049 - accuracy: 1.0000\n",
      "Epoch 46: accuracy did not improve from 1.00000\n",
      "27/27 [==============================] - 10s 362ms/step - loss: 0.0049 - accuracy: 1.0000 - val_loss: 0.4628 - val_accuracy: 0.9062\n",
      "Epoch 47/50\n",
      "27/27 [==============================] - ETA: 0s - loss: 0.0042 - accuracy: 1.0000\n",
      "Epoch 47: accuracy did not improve from 1.00000\n",
      "27/27 [==============================] - 8s 290ms/step - loss: 0.0042 - accuracy: 1.0000 - val_loss: 0.4504 - val_accuracy: 0.9062\n",
      "Epoch 48/50\n",
      "27/27 [==============================] - ETA: 0s - loss: 0.0103 - accuracy: 0.9965\n",
      "Epoch 48: accuracy did not improve from 1.00000\n",
      "27/27 [==============================] - 7s 254ms/step - loss: 0.0103 - accuracy: 0.9965 - val_loss: 0.5712 - val_accuracy: 0.8646\n",
      "Epoch 49/50\n",
      "27/27 [==============================] - ETA: 0s - loss: 0.0634 - accuracy: 0.9826\n",
      "Epoch 49: accuracy did not improve from 1.00000\n",
      "27/27 [==============================] - 7s 247ms/step - loss: 0.0634 - accuracy: 0.9826 - val_loss: 0.5618 - val_accuracy: 0.8854\n",
      "Epoch 50/50\n",
      "27/27 [==============================] - ETA: 0s - loss: 0.0545 - accuracy: 0.9873\n",
      "Epoch 50: accuracy did not improve from 1.00000\n",
      "27/27 [==============================] - 7s 269ms/step - loss: 0.0545 - accuracy: 0.9873 - val_loss: 0.4484 - val_accuracy: 0.8854\n"
     ]
    },
    {
     "data": {
      "text/plain": [
       "<keras.src.callbacks.History at 0x1465de4c8d0>"
      ]
     },
     "execution_count": 22,
     "metadata": {},
     "output_type": "execute_result"
    }
   ],
   "source": [
    "model.fit(X_train_padded, y_train, epochs=epochs, batch_size=batch_size, validation_split=0.1,callbacks=[model_checkpoint])"
   ]
  },
  {
   "cell_type": "code",
   "execution_count": 22,
   "id": "cb25308f",
   "metadata": {},
   "outputs": [
    {
     "name": "stdout",
     "output_type": "stream",
     "text": [
      "8/8 [==============================] - 1s 20ms/step\n"
     ]
    }
   ],
   "source": [
    "y_pred = model.predict(X_test_padded)\n",
    "y_pred_classes = np.argmax(y_pred, axis=1)\n",
    "y_true_classes = np.argmax(y_test, axis=1)"
   ]
  },
  {
   "cell_type": "code",
   "execution_count": 23,
   "id": "a6f0f26b",
   "metadata": {},
   "outputs": [
    {
     "name": "stdout",
     "output_type": "stream",
     "text": [
      "THE ACCURACY SCORE OF LSTM ARCHITECTURE IS : 85.83333333333333\n"
     ]
    }
   ],
   "source": [
    "from sklearn.metrics import accuracy_score\n",
    "\n",
    "AC = accuracy_score(y_true_classes,y_pred_classes)\n",
    "\n",
    "print(\"THE ACCURACY SCORE OF LSTM ARCHITECTURE IS :\",AC*100)"
   ]
  },
  {
   "cell_type": "code",
   "execution_count": 24,
   "id": "f6ced910",
   "metadata": {},
   "outputs": [
    {
     "name": "stdout",
     "output_type": "stream",
     "text": [
      "THE HAMMING LOSS OF LSTM ARCHITECTURE IS : 14.166666666666666\n"
     ]
    }
   ],
   "source": [
    "from sklearn.metrics import hamming_loss\n",
    "\n",
    "HL = hamming_loss(y_true_classes,y_pred_classes)\n",
    "\n",
    "print(\"THE HAMMING LOSS OF LSTM ARCHITECTURE IS :\",HL*100)"
   ]
  },
  {
   "cell_type": "code",
   "execution_count": 25,
   "id": "7f1c3938",
   "metadata": {},
   "outputs": [
    {
     "name": "stdout",
     "output_type": "stream",
     "text": [
      "THE PRECISION SCORE OF LSTM ARCHITECTURE:\n",
      "\n",
      "\n",
      "               precision    recall  f1-score   support\n",
      "\n",
      "           0       1.00      1.00      1.00         6\n",
      "           1       1.00      1.00      1.00         9\n",
      "           2       0.83      1.00      0.91        10\n",
      "           3       1.00      1.00      1.00        11\n",
      "           4       0.58      0.58      0.58        12\n",
      "           5       0.92      0.86      0.89        14\n",
      "           6       0.67      0.80      0.73        10\n",
      "           7       1.00      0.88      0.93         8\n",
      "           8       1.00      1.00      1.00         7\n",
      "           9       1.00      1.00      1.00        10\n",
      "          10       1.00      0.71      0.83        14\n",
      "          11       1.00      1.00      1.00         7\n",
      "          12       1.00      1.00      1.00        11\n",
      "          13       1.00      0.92      0.96        12\n",
      "          14       1.00      0.75      0.86        16\n",
      "          15       1.00      0.69      0.81        16\n",
      "          16       0.60      1.00      0.75         3\n",
      "          17       0.38      0.75      0.50         4\n",
      "          18       0.75      0.82      0.78        11\n",
      "          19       0.82      0.90      0.86        10\n",
      "          20       0.90      1.00      0.95         9\n",
      "          21       0.91      0.67      0.77        15\n",
      "          22       0.55      0.86      0.67         7\n",
      "          23       0.73      1.00      0.84         8\n",
      "\n",
      "    accuracy                           0.86       240\n",
      "   macro avg       0.86      0.88      0.86       240\n",
      "weighted avg       0.89      0.86      0.86       240\n",
      "\n"
     ]
    }
   ],
   "source": [
    "from sklearn.metrics import classification_report\n",
    "\n",
    "CR = classification_report(y_pred_classes,y_true_classes)\n",
    "\n",
    "print('THE PRECISION SCORE OF LSTM ARCHITECTURE:\\n\\n\\n',CR)"
   ]
  },
  {
   "cell_type": "code",
   "execution_count": 26,
   "id": "2c8d5164",
   "metadata": {},
   "outputs": [
    {
     "name": "stdout",
     "output_type": "stream",
     "text": [
      "THE CONFUSION MATRIX SCORE OF LSTM ARCHITECTURE:\n",
      "\n",
      "\n",
      " [[ 6  0  0  0  0  0  0  0  0  0  0  0  0  0  0  0  0  0  0  0  0  0  0  0]\n",
      " [ 0  9  0  0  0  0  0  0  0  0  0  0  0  0  0  0  0  0  0  0  0  0  0  0]\n",
      " [ 0  0 10  0  1  0  0  0  0  0  0  0  0  0  1  0  0  0  0  0  0  0  0  0]\n",
      " [ 0  0  0 11  0  0  0  0  0  0  0  0  0  0  0  0  0  0  0  0  0  0  0  0]\n",
      " [ 0  0  0  0  7  0  1  0  0  0  4  0  0  0  0  0  0  0  0  0  0  0  0  0]\n",
      " [ 0  0  0  0  0 12  0  0  0  0  0  0  0  0  1  0  0  0  0  0  0  0  0  0]\n",
      " [ 0  0  0  0  3  0  8  0  0  0  0  0  0  0  0  1  0  0  0  0  0  0  0  0]\n",
      " [ 0  0  0  0  0  0  0  7  0  0  0  0  0  0  0  0  0  0  0  0  0  0  0  0]\n",
      " [ 0  0  0  0  0  0  0  0  7  0  0  0  0  0  0  0  0  0  0  0  0  0  0  0]\n",
      " [ 0  0  0  0  0  0  0  0  0 10  0  0  0  0  0  0  0  0  0  0  0  0  0  0]\n",
      " [ 0  0  0  0  0  0  0  0  0  0 10  0  0  0  0  0  0  0  0  0  0  0  0  0]\n",
      " [ 0  0  0  0  0  0  0  0  0  0  0  7  0  0  0  0  0  0  0  0  0  0  0  0]\n",
      " [ 0  0  0  0  0  0  0  0  0  0  0  0 11  0  0  0  0  0  0  0  0  0  0  0]\n",
      " [ 0  0  0  0  0  0  0  0  0  0  0  0  0 11  0  0  0  0  0  0  0  0  0  0]\n",
      " [ 0  0  0  0  0  0  0  0  0  0  0  0  0  0 12  0  0  0  0  0  0  0  0  0]\n",
      " [ 0  0  0  0  0  0  0  0  0  0  0  0  0  0  0 11  0  0  0  0  0  0  0  0]\n",
      " [ 0  0  0  0  0  0  1  1  0  0  0  0  0  0  0  0  3  0  0  0  0  0  0  0]\n",
      " [ 0  0  0  0  1  0  0  0  0  0  0  0  0  0  0  4  0  3  0  0  0  0  0  0]\n",
      " [ 0  0  0  0  0  2  0  0  0  0  0  0  0  0  0  0  0  0  9  0  0  1  0  0]\n",
      " [ 0  0  0  0  0  0  0  0  0  0  0  0  0  1  0  0  0  0  1  9  0  0  0  0]\n",
      " [ 0  0  0  0  0  0  0  0  0  0  0  0  0  0  1  0  0  0  0  0  9  0  0  0]\n",
      " [ 0  0  0  0  0  0  0  0  0  0  0  0  0  0  0  0  0  0  0  0  0 10  1  0]\n",
      " [ 0  0  0  0  0  0  0  0  0  0  0  0  0  0  0  0  0  0  0  1  0  4  6  0]\n",
      " [ 0  0  0  0  0  0  0  0  0  0  0  0  0  0  1  0  0  1  1  0  0  0  0  8]]\n"
     ]
    }
   ],
   "source": [
    "from sklearn.metrics import confusion_matrix\n",
    "\n",
    "CM = confusion_matrix(y_true_classes,y_pred_classes)\n",
    "\n",
    "print('THE CONFUSION MATRIX SCORE OF LSTM ARCHITECTURE:\\n\\n\\n',CM)"
   ]
  },
  {
   "cell_type": "code",
   "execution_count": 27,
   "id": "91a18df0",
   "metadata": {},
   "outputs": [
    {
     "data": {
      "image/png": "[encoded data removed]",
      "text/plain": [
       "<Figure size 640x480 with 2 Axes>"
      ]
     },
     "metadata": {},
     "output_type": "display_data"
    }
   ],
   "source": [
    "import numpy as np\n",
    "import matplotlib.pyplot as plt\n",
    "from sklearn.metrics import confusion_matrix, ConfusionMatrixDisplay\n",
    "\n",
    "# Assuming you have the y_pred_classes and y_true_classes arrays with predicted and true labels respectively.\n",
    "\n",
    "# Calculate the confusion matrix\n",
    "cm = confusion_matrix(y_true_classes, y_pred_classes)\n",
    "\n",
    "# Display the confusion matrix using ConfusionMatrixDisplay\n",
    "classes = np.arange(cm.shape[0])  # Assuming your classes are integers from 0 to n_classes-1\n",
    "disp = ConfusionMatrixDisplay(confusion_matrix=cm, display_labels=classes)\n",
    "disp.plot(cmap='viridis', values_format='d')\n",
    "\n",
    "plt.title('DISPLAY CONFUSION MATRIX OF LSTM ARCHITECTURE\\n\\n')\n",
    "plt.xlabel('Predicted Label')\n",
    "plt.ylabel('True Label')\n",
    "plt.show()\n"
   ]
  },
  {
   "cell_type": "code",
   "execution_count": 28,
   "id": "f9aeded0",
   "metadata": {},
   "outputs": [
    {
     "data": {
      "image/png": "[encoded data removed]",
      "text/plain": [
       "<Figure size 500x500 with 1 Axes>"
      ]
     },
     "metadata": {},
     "output_type": "display_data"
    }
   ],
   "source": [
    "def graph():\n",
    "    import matplotlib.pyplot as plt\n",
    "    data=[AC]\n",
    "    alg=\"LSTM ARCHITECTURE\"\n",
    "    plt.figure(figsize=(5,5))\n",
    "    b=plt.bar(alg,data,color=(\"YELLOW\"))\n",
    "    plt.title(\"THE ACCURACY SCORE OF LSTM ARCHITECTURE IS\\n\\n\\n\")\n",
    "    plt.legend(b,data,fontsize=9)\n",
    "graph()"
   ]
  },
  {
   "cell_type": "code",
   "execution_count": null,
   "id": "4171c8be",
   "metadata": {},
   "outputs": [],
   "source": []
  },
  {
   "cell_type": "code",
   "execution_count": null,
   "id": "f1d6e091",
   "metadata": {},
   "outputs": [],
   "source": []
  }
 ],
 "metadata": {
  "kernelspec": {
   "display_name": "Python 3 (ipykernel)",
   "language": "python",
   "name": "python3"
  },
  "language_info": {
   "codemirror_mode": {
    "name": "ipython",
    "version": 3
   },
   "file_extension": ".py",
   "mimetype": "text/x-python",
   "name": "python",
   "nbconvert_exporter": "python",
   "pygments_lexer": "ipython3",
   "version": "3.11.5"
  }
 },
 "nbformat": 4,
 "nbformat_minor": 5
}
